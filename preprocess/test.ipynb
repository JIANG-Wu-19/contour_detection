{
 "cells": [
  {
   "cell_type": "code",
   "execution_count": 3,
   "id": "c7a84b98",
   "metadata": {},
   "outputs": [],
   "source": [
    "import cv2\n",
    "import numpy as np\n",
    "import matplotlib.pyplot as plt\n",
    "import os"
   ]
  },
  {
   "cell_type": "code",
   "execution_count": 14,
   "id": "e89b5589",
   "metadata": {},
   "outputs": [],
   "source": [
    "def contour_detection(no):\n",
    "    img = cv2.imread(\"train/{}.jpg\".format(no))\n",
    "    \n",
    "    img_gray = cv2.cvtColor(img,cv2.COLOR_BGR2GRAY)\n",
    "    img_blur = cv2.GaussianBlur(img_gray,(5,5),0)\n",
    "    _, thresh = cv2.threshold(img_blur,180,255,cv2.THRESH_BINARY_INV)\n",
    "    contours,hierarchy=cv2.findContours(image = thresh, mode = cv2.RETR_TREE, method = cv2.CHAIN_APPROX_SIMPLE)\n",
    "    img_with_contours = cv2.drawContours(img,contours,-1,(0,0,255),3)\n",
    "    \n",
    "    cv2.imwrite('contour/{}_contour.jpg'.format(no),img_with_contours)\n",
    "\n",
    "    # plt.imshow(thresh, cmap = 'gray')\n",
    "    # plt.show()\n",
    "    # plt.close()\n",
    "    "
   ]
  },
  {
   "cell_type": "code",
   "execution_count": 15,
   "id": "37d07dde",
   "metadata": {},
   "outputs": [],
   "source": [
    "path='train'\n",
    "files=os.listdir(path)\n",
    "for i in range(len(files)):\n",
    "    contour_detection(i)"
   ]
  },
  {
   "cell_type": "code",
   "execution_count": null,
   "id": "6a3bd53d",
   "metadata": {},
   "outputs": [],
   "source": []
  }
 ],
 "metadata": {
  "kernelspec": {
   "display_name": "pytorch",
   "language": "python",
   "name": "pytorch"
  },
  "language_info": {
   "codemirror_mode": {
    "name": "ipython",
    "version": 3
   },
   "file_extension": ".py",
   "mimetype": "text/x-python",
   "name": "python",
   "nbconvert_exporter": "python",
   "pygments_lexer": "ipython3",
   "version": "3.11.4"
  }
 },
 "nbformat": 4,
 "nbformat_minor": 5
}
