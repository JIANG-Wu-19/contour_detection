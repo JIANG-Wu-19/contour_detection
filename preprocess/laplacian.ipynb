{
 "cells": [
  {
   "cell_type": "code",
   "execution_count": 2,
   "id": "a156d07b",
   "metadata": {},
   "outputs": [],
   "source": [
    "import cv2\n",
    "import numpy as np\n",
    "from matplotlib import pyplot as plt\n",
    "import os"
   ]
  },
  {
   "cell_type": "code",
   "execution_count": 3,
   "id": "bab5a8ad",
   "metadata": {},
   "outputs": [],
   "source": [
    "def laplacian_sharpening(image):\n",
    "    # 使用拉普拉斯算子进行图像锐化\n",
    "    laplacian = cv2.Laplacian(image, cv2.CV_64F)\n",
    "    sharpened_image = image - laplacian\n",
    "\n",
    "    # 将负值设置为零，以避免图像过度增强\n",
    "    sharpened_image[sharpened_image < 0] = 0\n",
    "\n",
    "    return sharpened_image"
   ]
  },
  {
   "cell_type": "code",
   "execution_count": 6,
   "id": "e1b31fa1",
   "metadata": {},
   "outputs": [],
   "source": [
    "path=\"denoise_image\"\n",
    "files=os.listdir(path)\n",
    "for i in range(len(files)):\n",
    "    input_image_path=\"denoise_image/{}.png\".format(i)\n",
    "    ouput_path=\"sharpen_image_laplacian/{}.png\".format(i)\n",
    "    denoise_image=cv2.imread(input_image_path)\n",
    "    sharpened_image=laplacian_sharpening(denoise_image)\n",
    "    cv2.imwrite(ouput_path,sharpened_image)"
   ]
  },
  {
   "cell_type": "code",
   "execution_count": null,
   "id": "fdf31d9b",
   "metadata": {},
   "outputs": [],
   "source": []
  }
 ],
 "metadata": {
  "kernelspec": {
   "display_name": "pytorch",
   "language": "python",
   "name": "pytorch"
  },
  "language_info": {
   "codemirror_mode": {
    "name": "ipython",
    "version": 3
   },
   "file_extension": ".py",
   "mimetype": "text/x-python",
   "name": "python",
   "nbconvert_exporter": "python",
   "pygments_lexer": "ipython3",
   "version": "3.11.4"
  }
 },
 "nbformat": 4,
 "nbformat_minor": 5
}
