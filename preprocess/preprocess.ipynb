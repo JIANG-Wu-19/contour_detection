{
 "cells": [
  {
   "cell_type": "markdown",
   "id": "64d2506b",
   "metadata": {},
   "source": [
    "## import"
   ]
  },
  {
   "cell_type": "code",
   "execution_count": 2,
   "id": "677af3e9",
   "metadata": {},
   "outputs": [],
   "source": [
    "import cv2\n",
    "import numpy as np\n",
    "from matplotlib import pyplot as plt\n",
    "import os"
   ]
  },
  {
   "cell_type": "markdown",
   "id": "42564bf0",
   "metadata": {},
   "source": [
    "## 定义去噪函数"
   ]
  },
  {
   "cell_type": "code",
   "execution_count": 3,
   "id": "c125721a",
   "metadata": {},
   "outputs": [],
   "source": [
    "def denoise_image(image_path, output_path, ksize=5):\n",
    "    # 读取图像\n",
    "    image = cv2.imread(image_path)\n",
    "\n",
    "    # 将图像转换为灰度图\n",
    "    gray_image = cv2.cvtColor(image, cv2.COLOR_BGR2GRAY)\n",
    "\n",
    "    # 使用高斯滤波进行去噪\n",
    "    denoised_image = cv2.GaussianBlur(gray_image, (ksize, ksize), 0)\n",
    "\n",
    "    # 保存去噪后的图像\n",
    "    cv2.imwrite(output_path, denoised_image)\n",
    "\n",
    "# image_path=\"train/0.jpg\"\n",
    "# output_path=\"denoise_image/0.png\"\n",
    "# denoise_image(image_path,output_path)"
   ]
  },
  {
   "cell_type": "markdown",
   "id": "dabaedfd",
   "metadata": {},
   "source": [
    "## 去噪操作"
   ]
  },
  {
   "cell_type": "code",
   "execution_count": 4,
   "id": "e249f793",
   "metadata": {},
   "outputs": [],
   "source": [
    "path=\"train\"\n",
    "files=os.listdir(path)\n",
    "for i in range(len(files)):\n",
    "    image_path=\"train/{}.jpg\".format(i)\n",
    "    output_path=\"denoise_image/{}.png\".format(i)\n",
    "    denoise_image(image_path,output_path)"
   ]
  },
  {
   "cell_type": "markdown",
   "id": "7be37234",
   "metadata": {},
   "source": [
    "## 定义锐化函数"
   ]
  },
  {
   "cell_type": "code",
   "execution_count": 5,
   "id": "8df50291",
   "metadata": {},
   "outputs": [],
   "source": [
    "def sharpen_image(image_path, output_path,kernel):\n",
    "    # 读取图像\n",
    "    image = cv2.imread(image_path)\n",
    "\n",
    "    # 使用卷积核进行图像锐化\n",
    "#     kernel = np.array([[-2, -1, 0],\n",
    "#                        [-1,  1, 1],\n",
    "#                        [ 0,  1, 2]])\n",
    "    sharpened_image = cv2.filter2D(image, -1, kernel)\n",
    "\n",
    "    # 保存锐化后的图像\n",
    "    cv2.imwrite(output_path, sharpened_image)\n",
    "    \n",
    "# denoise_path=\"denoise_image/0.png\"\n",
    "# output_path=\"sharpen_image/0.png\"\n",
    "# sharpen_image(denoise_path,output_path)\n",
    "\n",
    "emboss_kernel=np.array([[-2, -1, 0],\n",
    "                        [-1,  1, 1],\n",
    "                        [ 0,  1, 2]])\n",
    "\n",
    "hp_kernel = np.array([[-1, -1, -1],\n",
    "                      [-1,  9, -1],\n",
    "                      [-1, -1, -1]])\n",
    "\n",
    "sobel_kernel=np.array([[-1, 0, 1],\n",
    "                       [-2, 0, 2],\n",
    "                       [-1, 0, 1]])\n",
    "\n"
   ]
  },
  {
   "cell_type": "code",
   "execution_count": 7,
   "id": "19043948",
   "metadata": {},
   "outputs": [],
   "source": [
    "for i in range(len(files)):\n",
    "    image_path=\"denoise_image/{}.png\".format(i)\n",
    "    output_path1=\"sharpen_image_hp/{}.png\".format(i)\n",
    "    output_path2=\"sharpen_image_emboss/{}.png\".format(i)\n",
    "    output_path3=\"sharpen_image_sobel/{}.png\".format(i)\n",
    "    sharpen_image(image_path, output_path1,hp_kernel)\n",
    "    sharpen_image(image_path, output_path2,emboss_kernel)\n",
    "    sharpen_image(image_path, output_path3,sobel_kernel)\n",
    "    sharpen_image(\"train/{}.jpg\".format(i),\"sobel/{}.png\".format(i),sobel_kernel)"
   ]
  },
  {
   "cell_type": "code",
   "execution_count": null,
   "id": "55ece13c",
   "metadata": {},
   "outputs": [],
   "source": []
  }
 ],
 "metadata": {
  "kernelspec": {
   "display_name": "pytorch",
   "language": "python",
   "name": "pytorch"
  },
  "language_info": {
   "codemirror_mode": {
    "name": "ipython",
    "version": 3
   },
   "file_extension": ".py",
   "mimetype": "text/x-python",
   "name": "python",
   "nbconvert_exporter": "python",
   "pygments_lexer": "ipython3",
   "version": "3.11.4"
  }
 },
 "nbformat": 4,
 "nbformat_minor": 5
}
