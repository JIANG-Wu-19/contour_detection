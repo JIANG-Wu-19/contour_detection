{
 "cells": [
  {
   "cell_type": "code",
   "execution_count": 1,
   "id": "0152ec75",
   "metadata": {},
   "outputs": [],
   "source": [
    "import cv2\n",
    "import numpy as np\n",
    "from matplotlib import pyplot as plt\n",
    "import os"
   ]
  },
  {
   "cell_type": "code",
   "execution_count": null,
   "id": "5e4e584a",
   "metadata": {},
   "outputs": [],
   "source": [
    "def sobel_sharpening(image):\n",
    "    # 计算Sobel导数\n",
    "    sobel_x = cv2.Sobel(image, cv2.CV_64F, 1, 0, ksize=3)\n",
    "    sobel_y = cv2.Sobel(image, cv2.CV_64F, 0, 1, ksize=3)\n",
    "\n",
    "    # 计算梯度幅值\n",
    "    gradient_magnitude = np.sqrt(sobel_x**2 + sobel_y**2)\n",
    "\n",
    "    # 将梯度幅值缩放到0-255范围\n",
    "    gradient_magnitude = np.uint8(255 * gradient_magnitude / np.max(gradient_magnitude))\n",
    "\n",
    "    return gradient_magnitude"
   ]
  }
 ],
 "metadata": {
  "kernelspec": {
   "display_name": "pytorch",
   "language": "python",
   "name": "pytorch"
  },
  "language_info": {
   "codemirror_mode": {
    "name": "ipython",
    "version": 3
   },
   "file_extension": ".py",
   "mimetype": "text/x-python",
   "name": "python",
   "nbconvert_exporter": "python",
   "pygments_lexer": "ipython3",
   "version": "3.11.4"
  }
 },
 "nbformat": 4,
 "nbformat_minor": 5
}
